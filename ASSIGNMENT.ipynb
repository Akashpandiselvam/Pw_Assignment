{
 "cells": [
  {
   "cell_type": "markdown",
   "id": "895eac46-2b4e-48a6-96be-3e3527c9c815",
   "metadata": {},
   "source": [
    "Q1. Create one variable containing following type of data:(i) string (ii) list (iii) float (iv) tuple"
   ]
  },
  {
   "cell_type": "code",
   "execution_count": 1,
   "id": "99098ee2-a2b6-4189-8439-345ff52e9766",
   "metadata": {},
   "outputs": [],
   "source": [
    "my_str = \"pwskills\""
   ]
  },
  {
   "cell_type": "code",
   "execution_count": 2,
   "id": "62b4b1bc-49b4-4440-94b1-b6cbb9357ef2",
   "metadata": {},
   "outputs": [],
   "source": [
    "my_list = [6,7,8,9,1,2]"
   ]
  },
  {
   "cell_type": "code",
   "execution_count": 3,
   "id": "c3c8885c-a90b-49ef-bce1-37d5c6b30dfa",
   "metadata": {},
   "outputs": [],
   "source": [
    "my_float = 6.7"
   ]
  },
  {
   "cell_type": "code",
   "execution_count": 4,
   "id": "b77c2c19-eb43-4d07-9809-9156d41774b8",
   "metadata": {},
   "outputs": [],
   "source": [
    "my_tuple = (\"car\",\"bike\",\"cycle\",\"helicopter\")"
   ]
  },
  {
   "cell_type": "markdown",
   "id": "0834deed-3540-43a2-804b-ca33744afcaa",
   "metadata": {},
   "source": [
    "Q2. Given are some following variables containing data:(i) var1 = ‘ ‘ (ii) var2 = ‘[ DS , ML , Python]’ (iii) var3 = [ ‘DS’ , ’ML’ , ‘Python’ ] (iv) var4 = 1. What will be the data type of the above given variable."
   ]
  },
  {
   "cell_type": "code",
   "execution_count": null,
   "id": "e6d9444f-96dc-4b14-80de-e6e0ed99e178",
   "metadata": {},
   "outputs": [],
   "source": [
    "var1 is a string\n",
    "var2 is a string\n",
    "var3 is a list\n",
    "var4 is an integer"
   ]
  },
  {
   "cell_type": "markdown",
   "id": "c8a991c6-84cb-4753-b91b-a9becdc36f40",
   "metadata": {},
   "source": [
    "Q3. Explain the use of the following operators using an example:(i) /(ii) %(iii) //(iv) **"
   ]
  },
  {
   "cell_type": "markdown",
   "id": "24ea65da-737f-45d5-8f09-c4818a82b0ef",
   "metadata": {},
   "source": [
    " (i) / (Division Operator):The division operator '/' is used for performing division between two numbers."
   ]
  },
  {
   "cell_type": "code",
   "execution_count": 18,
   "id": "9c01ff5f-f2a2-4075-824e-6e1be25bb0b5",
   "metadata": {},
   "outputs": [
    {
     "name": "stdout",
     "output_type": "stream",
     "text": [
      "3.6\n"
     ]
    }
   ],
   "source": [
    "a = 18\n",
    "b = 5\n",
    "result = a / b\n",
    "print(result)"
   ]
  },
  {
   "cell_type": "markdown",
   "id": "a5412979-cfbe-4f16-9dde-f3ec01e36c3d",
   "metadata": {},
   "source": [
    "(ii) '%' (Modulo Operator):The modulo operator '%' is used to find the remainder after division between two numbers."
   ]
  },
  {
   "cell_type": "code",
   "execution_count": 13,
   "id": "4c018a77-c488-4458-9d2e-daff42a54b40",
   "metadata": {},
   "outputs": [
    {
     "name": "stdout",
     "output_type": "stream",
     "text": [
      "3\n"
     ]
    }
   ],
   "source": [
    "a = 18\n",
    "b = 5\n",
    "result = a % b\n",
    "print(result)\n"
   ]
  },
  {
   "cell_type": "markdown",
   "id": "f54aca77-ffab-4a33-a107-28dadb3d1762",
   "metadata": {},
   "source": [
    "(iii) '//' (Floor Division Operator):The floor division operator '//' is used to perform division between two numbers."
   ]
  },
  {
   "cell_type": "code",
   "execution_count": 14,
   "id": "8652a499-a2a7-4c9c-8060-0af43e442f6d",
   "metadata": {},
   "outputs": [
    {
     "name": "stdout",
     "output_type": "stream",
     "text": [
      "7\n"
     ]
    }
   ],
   "source": [
    "a = 23\n",
    "b = 3\n",
    "result = a // b\n",
    "print(result) "
   ]
  },
  {
   "cell_type": "markdown",
   "id": "0eaff8e7-a786-4a7e-8b29-aa8aaff12062",
   "metadata": {},
   "source": [
    "(iv) '**' (Exponentiation Operator):The exponentiation operator '**' is used to raise a number to the power of another number."
   ]
  },
  {
   "cell_type": "code",
   "execution_count": 17,
   "id": "76325947-1fc0-4e45-8064-a45d0c6bbfa5",
   "metadata": {},
   "outputs": [
    {
     "name": "stdout",
     "output_type": "stream",
     "text": [
      "8\n"
     ]
    }
   ],
   "source": [
    "a = 2\n",
    "b = 3\n",
    "result = a ** b\n",
    "print(result)"
   ]
  },
  {
   "cell_type": "markdown",
   "id": "0b56b99e-d4b0-4eb8-a598-525585a10c2c",
   "metadata": {},
   "source": [
    "Q4. Create a list of length 10 of your choice containing multiple types of data. Using for loop print the\n",
    "element and its data type."
   ]
  },
  {
   "cell_type": "code",
   "execution_count": 23,
   "id": "89247f73-4886-48ec-91d9-76fecfe2239d",
   "metadata": {},
   "outputs": [
    {
     "name": "stdout",
     "output_type": "stream",
     "text": [
      "<class 'int'>\n",
      "<class 'int'>\n",
      "<class 'int'>\n",
      "<class 'int'>\n",
      "<class 'int'>\n",
      "<class 'int'>\n",
      "<class 'str'>\n",
      "<class 'bool'>\n",
      "<class 'float'>\n",
      "<class 'complex'>\n"
     ]
    }
   ],
   "source": [
    "l = [4,5,6,7,8,9,\"pwskills\",True,31.2,4+5j]\n",
    "\n",
    "for i in l :\n",
    "    print(type(i))"
   ]
  },
  {
   "cell_type": "markdown",
   "id": "782620d8-e613-4722-93b9-2902d5f68642",
   "metadata": {},
   "source": [
    "Q5. Using a while loop, verify if the number A is purely divisible by number B and if so then how many\n",
    "times it can be divisible."
   ]
  },
  {
   "cell_type": "code",
   "execution_count": 26,
   "id": "d229e651-3f10-4c7f-b262-fabce68e941b",
   "metadata": {},
   "outputs": [
    {
     "name": "stdout",
     "output_type": "stream",
     "text": [
      "Number A is divisible by B 2 times.\n"
     ]
    }
   ],
   "source": [
    "A = 25\n",
    "B = 5\n",
    "\n",
    "c = 0 \n",
    "\n",
    "while A % B == 0:\n",
    "    A = A // B \n",
    "    c += 1  \n",
    "\n",
    "print(\"Number A is divisible by B\", c, \"times.\")\n"
   ]
  },
  {
   "cell_type": "markdown",
   "id": "82de5d4f-88f6-47e9-b1d0-9b603d1d6f68",
   "metadata": {},
   "source": [
    "Q6. Create a list containing 25 int type data. Using for loop and if-else condition print if the element is\n",
    "divisible by 3 or not."
   ]
  },
  {
   "cell_type": "code",
   "execution_count": 42,
   "id": "cab1433d-143f-497b-9112-db6892013dca",
   "metadata": {},
   "outputs": [
    {
     "name": "stdout",
     "output_type": "stream",
     "text": [
      "99 is divisible by 3.\n",
      "12 is divisible by 3.\n",
      "5 is not divisible by 3.\n",
      "18 is divisible by 3.\n",
      "21 is divisible by 3.\n",
      "7 is not divisible by 3.\n",
      "30 is divisible by 3.\n",
      "14 is not divisible by 3.\n",
      "27 is divisible by 3.\n",
      "8 is not divisible by 3.\n",
      "33 is divisible by 3.\n",
      "16 is not divisible by 3.\n",
      "3 is divisible by 3.\n",
      "36 is divisible by 3.\n",
      "20 is not divisible by 3.\n",
      "39 is divisible by 3.\n",
      "4 is not divisible by 3.\n",
      "42 is divisible by 3.\n",
      "25 is not divisible by 3.\n",
      "45 is divisible by 3.\n",
      "28 is not divisible by 3.\n",
      "50 is not divisible by 3.\n",
      "31 is not divisible by 3.\n",
      "54 is divisible by 3.\n",
      "6 is divisible by 3.\n"
     ]
    }
   ],
   "source": [
    "my_list = [99, 12, 5, 18, 21, 7, 30, 14, 27, 8, 33, 16, 3, 36, 20, 39, 4, 42, 25, 45, 28, 50, 31, 54, 6]\n",
    "\n",
    "for element in my_list:\n",
    "    if element % 3 == 0:\n",
    "        print(element, \"is divisible by 3.\")\n",
    "    else:\n",
    "        print(element, \"is not divisible by 3.\")\n"
   ]
  },
  {
   "cell_type": "markdown",
   "id": "ad37f908-049c-496a-bb3b-553045f59bfd",
   "metadata": {},
   "source": [
    "Q7. What do you understand about mutable and immutable data types? Give examples for both showing\n",
    "this property."
   ]
  },
  {
   "cell_type": "markdown",
   "id": "03b76e94-933d-480f-bc36-aac73736b700",
   "metadata": {},
   "source": [
    "Mutable data types are those whose values can be modified after they are created."
   ]
  },
  {
   "cell_type": "code",
   "execution_count": 33,
   "id": "dca93b21-7ade-4a36-a0ef-6b5f00840f40",
   "metadata": {},
   "outputs": [],
   "source": [
    "n = [1,2,3,\"ak\",\"pwskills\",True,3+4j]"
   ]
  },
  {
   "cell_type": "code",
   "execution_count": 34,
   "id": "35878139-69bc-4378-b4cc-a531abf404da",
   "metadata": {},
   "outputs": [
    {
     "data": {
      "text/plain": [
       "[1, 2, 3, 'ak', 'pwskills', True, (3+4j)]"
      ]
     },
     "execution_count": 34,
     "metadata": {},
     "output_type": "execute_result"
    }
   ],
   "source": [
    "#replacing 'ak' with False\n",
    "n"
   ]
  },
  {
   "cell_type": "code",
   "execution_count": 37,
   "id": "ba28f6e2-a46b-46f8-b35e-3f0c2d0528e9",
   "metadata": {},
   "outputs": [],
   "source": [
    "n[3]=False"
   ]
  },
  {
   "cell_type": "code",
   "execution_count": 38,
   "id": "47b1356d-2dd4-4d4c-9f11-26a53e4389ca",
   "metadata": {},
   "outputs": [
    {
     "data": {
      "text/plain": [
       "[1, 2, 3, False, 'pwskills', True, (3+4j)]"
      ]
     },
     "execution_count": 38,
     "metadata": {},
     "output_type": "execute_result"
    }
   ],
   "source": [
    "n"
   ]
  },
  {
   "cell_type": "markdown",
   "id": "fc2c4ba8-440e-4b8d-a230-f8a89ae18d00",
   "metadata": {},
   "source": [
    "Immutable data types are those whose values cannot be changed after they are created."
   ]
  },
  {
   "cell_type": "code",
   "execution_count": 39,
   "id": "fffcd064-c100-4ad0-a89f-d6d2a781dd1f",
   "metadata": {},
   "outputs": [],
   "source": [
    "p = 'pravin'"
   ]
  },
  {
   "cell_type": "code",
   "execution_count": 41,
   "id": "732276f5-0941-4780-873c-f4923a4193fd",
   "metadata": {},
   "outputs": [
    {
     "ename": "TypeError",
     "evalue": "'str' object does not support item assignment",
     "output_type": "error",
     "traceback": [
      "\u001b[0;31m---------------------------------------------------------------------------\u001b[0m",
      "\u001b[0;31mTypeError\u001b[0m                                 Traceback (most recent call last)",
      "Cell \u001b[0;32mIn[41], line 1\u001b[0m\n\u001b[0;32m----> 1\u001b[0m \u001b[43mp\u001b[49m\u001b[43m[\u001b[49m\u001b[38;5;241;43m2\u001b[39;49m\u001b[43m]\u001b[49m\u001b[38;5;241m=\u001b[39m\u001b[38;5;124m'\u001b[39m\u001b[38;5;124me\u001b[39m\u001b[38;5;124m'\u001b[39m\n",
      "\u001b[0;31mTypeError\u001b[0m: 'str' object does not support item assignment"
     ]
    }
   ],
   "source": [
    "p[2]='e'"
   ]
  },
  {
   "cell_type": "code",
   "execution_count": null,
   "id": "7c762298-b7da-4c19-8dfb-7cd52bec6d7d",
   "metadata": {},
   "outputs": [],
   "source": []
  }
 ],
 "metadata": {
  "kernelspec": {
   "display_name": "Python 3 (ipykernel)",
   "language": "python",
   "name": "python3"
  },
  "language_info": {
   "codemirror_mode": {
    "name": "ipython",
    "version": 3
   },
   "file_extension": ".py",
   "mimetype": "text/x-python",
   "name": "python",
   "nbconvert_exporter": "python",
   "pygments_lexer": "ipython3",
   "version": "3.10.8"
  }
 },
 "nbformat": 4,
 "nbformat_minor": 5
}
